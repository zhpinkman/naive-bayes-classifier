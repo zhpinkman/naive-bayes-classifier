{
  "nbformat": 4,
  "nbformat_minor": 0,
  "metadata": {
    "colab": {
      "name": "CA03",
      "provenance": [],
      "collapsed_sections": [],
      "include_colab_link": true
    },
    "kernelspec": {
      "name": "python3",
      "display_name": "Python 3"
    }
  },
  "cells": [
    {
      "cell_type": "markdown",
      "metadata": {
        "id": "view-in-github",
        "colab_type": "text"
      },
      "source": [
        "<a href=\"https://colab.research.google.com/github/zhpinkman/naive-bayes-classifier/blob/master/comments-sentiment-classification-naive-bayes.ipynb\" target=\"_parent\"><img src=\"https://colab.research.google.com/assets/colab-badge.svg\" alt=\"Open In Colab\"/></a>"
      ]
    },
    {
      "cell_type": "code",
      "metadata": {
        "id": "o8yDKdiozUEK"
      },
      "source": [
        "import pandas as pd\n",
        "import numpy as np"
      ],
      "execution_count": null,
      "outputs": []
    },
    {
      "cell_type": "code",
      "metadata": {
        "id": "sE0IIf-px2sJ",
        "colab": {
          "base_uri": "https://localhost:8080/",
          "height": 260
        },
        "outputId": "618ef36c-5511-4ee0-a16a-77eccffbc0b4"
      },
      "source": [
        "# Install PyDrive\n",
        "!pip install PyDrive\n",
        "\n",
        "#Import modules\n",
        "from pydrive.auth import GoogleAuth\n",
        "from pydrive.drive import GoogleDrive\n",
        "from google.colab import auth\n",
        "from oauth2client.client import GoogleCredentials\n",
        "\n",
        "#Authenticate and create the PyDrive client\n",
        "auth.authenticate_user()\n",
        "gauth = GoogleAuth()\n",
        "gauth.credentials = GoogleCredentials.get_application_default()\n",
        "drive = GoogleDrive(gauth)"
      ],
      "execution_count": null,
      "outputs": [
        {
          "output_type": "stream",
          "text": [
            "Requirement already satisfied: PyDrive in /usr/local/lib/python3.6/dist-packages (1.3.1)\n",
            "Requirement already satisfied: google-api-python-client>=1.2 in /usr/local/lib/python3.6/dist-packages (from PyDrive) (1.7.12)\n",
            "Requirement already satisfied: PyYAML>=3.0 in /usr/local/lib/python3.6/dist-packages (from PyDrive) (3.13)\n",
            "Requirement already satisfied: oauth2client>=4.0.0 in /usr/local/lib/python3.6/dist-packages (from PyDrive) (4.1.3)\n",
            "Requirement already satisfied: six<2dev,>=1.6.1 in /usr/local/lib/python3.6/dist-packages (from google-api-python-client>=1.2->PyDrive) (1.15.0)\n",
            "Requirement already satisfied: httplib2<1dev,>=0.17.0 in /usr/local/lib/python3.6/dist-packages (from google-api-python-client>=1.2->PyDrive) (0.17.4)\n",
            "Requirement already satisfied: google-auth>=1.4.1 in /usr/local/lib/python3.6/dist-packages (from google-api-python-client>=1.2->PyDrive) (1.17.2)\n",
            "Requirement already satisfied: google-auth-httplib2>=0.0.3 in /usr/local/lib/python3.6/dist-packages (from google-api-python-client>=1.2->PyDrive) (0.0.4)\n",
            "Requirement already satisfied: uritemplate<4dev,>=3.0.0 in /usr/local/lib/python3.6/dist-packages (from google-api-python-client>=1.2->PyDrive) (3.0.1)\n",
            "Requirement already satisfied: rsa>=3.1.4 in /usr/local/lib/python3.6/dist-packages (from oauth2client>=4.0.0->PyDrive) (4.6)\n",
            "Requirement already satisfied: pyasn1-modules>=0.0.5 in /usr/local/lib/python3.6/dist-packages (from oauth2client>=4.0.0->PyDrive) (0.2.8)\n",
            "Requirement already satisfied: pyasn1>=0.1.7 in /usr/local/lib/python3.6/dist-packages (from oauth2client>=4.0.0->PyDrive) (0.4.8)\n",
            "Requirement already satisfied: setuptools>=40.3.0 in /usr/local/lib/python3.6/dist-packages (from google-auth>=1.4.1->google-api-python-client>=1.2->PyDrive) (50.3.0)\n",
            "Requirement already satisfied: cachetools<5.0,>=2.0.0 in /usr/local/lib/python3.6/dist-packages (from google-auth>=1.4.1->google-api-python-client>=1.2->PyDrive) (4.1.1)\n"
          ],
          "name": "stdout"
        }
      ]
    },
    {
      "cell_type": "code",
      "metadata": {
        "id": "Yc1sfZtSyqLD"
      },
      "source": [
        "downloaded = drive.CreateFile({'id':\"1uoE9erUa6gfqVpCZ9Ejoetg-RCgLYSjM\"})   \n",
        "downloaded.GetContentFile('comment_train.csv')       \n",
        "\n",
        "downloaded = drive.CreateFile({'id':\"1DZ5b54KJqOlioaXH8N9H37l4ldg6bLGp\"})   \n",
        "downloaded.GetContentFile('comment_validation.csv')       \n",
        "\n",
        "train_df = pd.read_csv('comment_train.csv')\n",
        "val_df = pd.read_csv('comment_validation.csv')"
      ],
      "execution_count": null,
      "outputs": []
    },
    {
      "cell_type": "code",
      "metadata": {
        "id": "FVQw1hQkzkSN",
        "colab": {
          "base_uri": "https://localhost:8080/",
          "height": 206
        },
        "outputId": "6aa08528-1678-4840-a739-259c22436451"
      },
      "source": [
        "train_df.head()"
      ],
      "execution_count": null,
      "outputs": [
        {
          "output_type": "execute_result",
          "data": {
            "text/html": [
              "<div>\n",
              "<style scoped>\n",
              "    .dataframe tbody tr th:only-of-type {\n",
              "        vertical-align: middle;\n",
              "    }\n",
              "\n",
              "    .dataframe tbody tr th {\n",
              "        vertical-align: top;\n",
              "    }\n",
              "\n",
              "    .dataframe thead th {\n",
              "        text-align: right;\n",
              "    }\n",
              "</style>\n",
              "<table border=\"1\" class=\"dataframe\">\n",
              "  <thead>\n",
              "    <tr style=\"text-align: right;\">\n",
              "      <th></th>\n",
              "      <th>title</th>\n",
              "      <th>comment</th>\n",
              "      <th>recommend</th>\n",
              "    </tr>\n",
              "  </thead>\n",
              "  <tbody>\n",
              "    <tr>\n",
              "      <th>0</th>\n",
              "      <td>زیبا اما کم دوام</td>\n",
              "      <td>با وجود سابقه خوبی که از برند ایرانی نهرین سرا...</td>\n",
              "      <td>not_recommended</td>\n",
              "    </tr>\n",
              "    <tr>\n",
              "      <th>1</th>\n",
              "      <td>بسیار عالی</td>\n",
              "      <td>بسیار عالی</td>\n",
              "      <td>recommended</td>\n",
              "    </tr>\n",
              "    <tr>\n",
              "      <th>2</th>\n",
              "      <td>سلام</td>\n",
              "      <td>من الان ۳ هفته هست استفاده میکنم\\r\\nبرای کسایی...</td>\n",
              "      <td>not_recommended</td>\n",
              "    </tr>\n",
              "    <tr>\n",
              "      <th>3</th>\n",
              "      <td>به درد نمیخورهههه</td>\n",
              "      <td>عمرش کمه تا یه هفته بیشتر نمیشه استفاده کرد یا...</td>\n",
              "      <td>not_recommended</td>\n",
              "    </tr>\n",
              "    <tr>\n",
              "      <th>4</th>\n",
              "      <td>کلمن آب</td>\n",
              "      <td>فکر کنین کلمن بخرین با ذوق. کلی پولشو بدین. به...</td>\n",
              "      <td>not_recommended</td>\n",
              "    </tr>\n",
              "  </tbody>\n",
              "</table>\n",
              "</div>"
            ],
            "text/plain": [
              "               title  ...        recommend\n",
              "0   زیبا اما کم دوام  ...  not_recommended\n",
              "1         بسیار عالی  ...      recommended\n",
              "2               سلام  ...  not_recommended\n",
              "3  به درد نمیخورهههه  ...  not_recommended\n",
              "4            کلمن آب  ...  not_recommended\n",
              "\n",
              "[5 rows x 3 columns]"
            ]
          },
          "metadata": {
            "tags": []
          },
          "execution_count": 4
        }
      ]
    },
    {
      "cell_type": "code",
      "metadata": {
        "id": "g4yABKIjz6My"
      },
      "source": [
        "def numeric_transform(item):\n",
        "    if item == 'recommended':\n",
        "        return 1\n",
        "    else:\n",
        "        return 0\n",
        "train_df['recommend'] = train_df['recommend'].apply(numeric_transform)"
      ],
      "execution_count": null,
      "outputs": []
    },
    {
      "cell_type": "code",
      "metadata": {
        "id": "TsCRxuh81Vg8",
        "colab": {
          "base_uri": "https://localhost:8080/",
          "height": 206
        },
        "outputId": "c0ad4312-866c-4abb-9e8d-54242f70b3a4"
      },
      "source": [
        "train_df.head()"
      ],
      "execution_count": null,
      "outputs": [
        {
          "output_type": "execute_result",
          "data": {
            "text/html": [
              "<div>\n",
              "<style scoped>\n",
              "    .dataframe tbody tr th:only-of-type {\n",
              "        vertical-align: middle;\n",
              "    }\n",
              "\n",
              "    .dataframe tbody tr th {\n",
              "        vertical-align: top;\n",
              "    }\n",
              "\n",
              "    .dataframe thead th {\n",
              "        text-align: right;\n",
              "    }\n",
              "</style>\n",
              "<table border=\"1\" class=\"dataframe\">\n",
              "  <thead>\n",
              "    <tr style=\"text-align: right;\">\n",
              "      <th></th>\n",
              "      <th>title</th>\n",
              "      <th>comment</th>\n",
              "      <th>recommend</th>\n",
              "    </tr>\n",
              "  </thead>\n",
              "  <tbody>\n",
              "    <tr>\n",
              "      <th>0</th>\n",
              "      <td>زیبا اما کم دوام</td>\n",
              "      <td>با وجود سابقه خوبی که از برند ایرانی نهرین سرا...</td>\n",
              "      <td>0</td>\n",
              "    </tr>\n",
              "    <tr>\n",
              "      <th>1</th>\n",
              "      <td>بسیار عالی</td>\n",
              "      <td>بسیار عالی</td>\n",
              "      <td>1</td>\n",
              "    </tr>\n",
              "    <tr>\n",
              "      <th>2</th>\n",
              "      <td>سلام</td>\n",
              "      <td>من الان ۳ هفته هست استفاده میکنم\\r\\nبرای کسایی...</td>\n",
              "      <td>0</td>\n",
              "    </tr>\n",
              "    <tr>\n",
              "      <th>3</th>\n",
              "      <td>به درد نمیخورهههه</td>\n",
              "      <td>عمرش کمه تا یه هفته بیشتر نمیشه استفاده کرد یا...</td>\n",
              "      <td>0</td>\n",
              "    </tr>\n",
              "    <tr>\n",
              "      <th>4</th>\n",
              "      <td>کلمن آب</td>\n",
              "      <td>فکر کنین کلمن بخرین با ذوق. کلی پولشو بدین. به...</td>\n",
              "      <td>0</td>\n",
              "    </tr>\n",
              "  </tbody>\n",
              "</table>\n",
              "</div>"
            ],
            "text/plain": [
              "               title  ... recommend\n",
              "0   زیبا اما کم دوام  ...         0\n",
              "1         بسیار عالی  ...         1\n",
              "2               سلام  ...         0\n",
              "3  به درد نمیخورهههه  ...         0\n",
              "4            کلمن آب  ...         0\n",
              "\n",
              "[5 rows x 3 columns]"
            ]
          },
          "metadata": {
            "tags": []
          },
          "execution_count": 6
        }
      ]
    },
    {
      "cell_type": "code",
      "metadata": {
        "id": "mFmMywtmnEi1"
      },
      "source": [
        "def get_propotions(df):\n",
        "    positive_proportion, negative_proportion = df['recommend'].value_counts().tolist()\n",
        "    positive_proportion /= len(df)\n",
        "    negative_proportion /= len(df)\n",
        "    return positive_proportion, negative_proportion    "
      ],
      "execution_count": null,
      "outputs": []
    },
    {
      "cell_type": "code",
      "metadata": {
        "id": "oYVY4fg-2bfe",
        "colab": {
          "base_uri": "https://localhost:8080/",
          "height": 86
        },
        "outputId": "396f9db0-71ad-4b6f-c774-632cf8b477b2"
      },
      "source": [
        "positive_proportion, negative_proportion = get_propotions(train_df)\n",
        "positive_comments = positive_proportion * len(train_df)\n",
        "negative_comments = negative_proportion * len(train_df)\n",
        "print('proportion of the positive comments: ', positive_proportion)\n",
        "print('proportion of the nagative comments: ', negative_proportion)\n",
        "print('number of positive comments:', positive_comments)\n",
        "print('number of positive comments:', negative_comments)"
      ],
      "execution_count": null,
      "outputs": [
        {
          "output_type": "stream",
          "text": [
            "proportion of the positive comments:  0.5\n",
            "proportion of the nagative comments:  0.5\n",
            "number of positive comments: 3000.0\n",
            "number of positive comments: 3000.0\n"
          ],
          "name": "stdout"
        }
      ]
    },
    {
      "cell_type": "code",
      "metadata": {
        "id": "rkvFs3Qyqdxm"
      },
      "source": [
        "def remove_newline(df):\n",
        "    df.comment = df.comment.replace(r'\\n',  ' ', regex=True)\n",
        "    df.comment = df.comment.replace(r'\\r',  ' ', regex=True)\n",
        "    df.comment = df.comment.replace(r'\\.',  ' ', regex=True)    \n",
        "    return df"
      ],
      "execution_count": null,
      "outputs": []
    },
    {
      "cell_type": "code",
      "metadata": {
        "id": "SLAQ9aJs2S-b",
        "colab": {
          "base_uri": "https://localhost:8080/",
          "height": 124
        },
        "outputId": "528c5385-2c32-4ee2-91ef-15d11a769823"
      },
      "source": [
        "train_df = remove_newline(train_df)\n",
        "train_df.head().comment.values.tolist()"
      ],
      "execution_count": null,
      "outputs": [
        {
          "output_type": "execute_result",
          "data": {
            "text/plain": [
              "['با وجود سابقه خوبی که از برند ایرانی نهرین سراغ داشتم اما متاسفانه بعد از فقط 15 روز رویه کفش ترک خورده و کناره ها هم شروع کرده به جدا شدن از کفه، فقط در فروش ویژه ممکنه به صرفه باشه ',\n",
              " 'بسیار عالی',\n",
              " 'من الان ۳ هفته هست استفاده میکنم  برای کسایی که در طول ماه دو سه تا دونه جوش میزنن خیلی خوبه که نقطه نقطه روی اون جوش ها بزنید و بعد از ۲ روز خشک\\u200cمیشه  اما من صورتم خیلی جوش داره و جوش زیر پوستی هم داده  برای من مناسب نبود چون با چند بار استفاده قشنگ صورتم سووووخت شروع به ورقه ورقه شدن کرد و خوب ظاهر پوستم خیلی بد شد مخصوصا زیر آرایش کامل مشششخصه تیکه تیکه شده پوستم  ، حدود ۲ هفته طول کشید درست شد و پوست جدید جایگزین شد  الان یه شب در میون میزنم ولی همچنان جوش زیر پوستی دارم بازم جوش فعال میزنم در صورتی که در توضیحاتش نوشته بعد از یک هفته استفاده اصلااا نباید دیگه جوش بزنیم   پوست من چرب بود و الان مثل چوووب خشک شده که پوست میندازم هی  به کسایی که خیلی جوش دارن توصیه نمیکنم فقط به درد کسایی میخوره که ماهی دو سه تا جوووش کووچووولووو میزنن  و در ضمن فرورفتگی ناشی از جای جوش هم\\u200cنبرده  با اینکه این همه پوستم ورقه ورقه شده ',\n",
              " 'عمرش کمه تا یه هفته بیشتر نمیشه استفاده کرد یا دیگه شارژ نمیشه یا میسوزه به یه قطره آب هم حساسه گام شمارش هم درست نیست واسه من واتساپش نمیاورد زنگ زدم شرکت گفت چیکار  کنیم چند مدته خراب شده اصلا نخرین اصلااا',\n",
              " 'فکر کنین کلمن بخرین با ذوق  کلی پولشو بدین  به نظر آدما تو دیجیکالا که میگن چکه میکنه اهمیت ندین   سر هم کنید کلمن رو  و ببینین مثل ابر باهار چکه میکنه  چول لازمش داشتیم همین امروز، مجبور شدیم چسب ۱۲۳ بزنیم دور شیرش! وگرنه پس میدادیم ']"
            ]
          },
          "metadata": {
            "tags": []
          },
          "execution_count": 10
        }
      ]
    },
    {
      "cell_type": "code",
      "metadata": {
        "id": "3qFHnxLM0Bi3",
        "colab": {
          "base_uri": "https://localhost:8080/",
          "height": 206
        },
        "outputId": "6d45dc7a-4338-47dc-b30c-51f6ad7c157d"
      },
      "source": [
        "train_df.head()"
      ],
      "execution_count": null,
      "outputs": [
        {
          "output_type": "execute_result",
          "data": {
            "text/html": [
              "<div>\n",
              "<style scoped>\n",
              "    .dataframe tbody tr th:only-of-type {\n",
              "        vertical-align: middle;\n",
              "    }\n",
              "\n",
              "    .dataframe tbody tr th {\n",
              "        vertical-align: top;\n",
              "    }\n",
              "\n",
              "    .dataframe thead th {\n",
              "        text-align: right;\n",
              "    }\n",
              "</style>\n",
              "<table border=\"1\" class=\"dataframe\">\n",
              "  <thead>\n",
              "    <tr style=\"text-align: right;\">\n",
              "      <th></th>\n",
              "      <th>title</th>\n",
              "      <th>comment</th>\n",
              "      <th>recommend</th>\n",
              "    </tr>\n",
              "  </thead>\n",
              "  <tbody>\n",
              "    <tr>\n",
              "      <th>0</th>\n",
              "      <td>زیبا اما کم دوام</td>\n",
              "      <td>با وجود سابقه خوبی که از برند ایرانی نهرین سرا...</td>\n",
              "      <td>0</td>\n",
              "    </tr>\n",
              "    <tr>\n",
              "      <th>1</th>\n",
              "      <td>بسیار عالی</td>\n",
              "      <td>بسیار عالی</td>\n",
              "      <td>1</td>\n",
              "    </tr>\n",
              "    <tr>\n",
              "      <th>2</th>\n",
              "      <td>سلام</td>\n",
              "      <td>من الان ۳ هفته هست استفاده میکنم  برای کسایی ک...</td>\n",
              "      <td>0</td>\n",
              "    </tr>\n",
              "    <tr>\n",
              "      <th>3</th>\n",
              "      <td>به درد نمیخورهههه</td>\n",
              "      <td>عمرش کمه تا یه هفته بیشتر نمیشه استفاده کرد یا...</td>\n",
              "      <td>0</td>\n",
              "    </tr>\n",
              "    <tr>\n",
              "      <th>4</th>\n",
              "      <td>کلمن آب</td>\n",
              "      <td>فکر کنین کلمن بخرین با ذوق  کلی پولشو بدین  به...</td>\n",
              "      <td>0</td>\n",
              "    </tr>\n",
              "  </tbody>\n",
              "</table>\n",
              "</div>"
            ],
            "text/plain": [
              "               title  ... recommend\n",
              "0   زیبا اما کم دوام  ...         0\n",
              "1         بسیار عالی  ...         1\n",
              "2               سلام  ...         0\n",
              "3  به درد نمیخورهههه  ...         0\n",
              "4            کلمن آب  ...         0\n",
              "\n",
              "[5 rows x 3 columns]"
            ]
          },
          "metadata": {
            "tags": []
          },
          "execution_count": 11
        }
      ]
    },
    {
      "cell_type": "code",
      "metadata": {
        "id": "VOJwkKnmrKxl"
      },
      "source": [
        "def get_dict(comments):\n",
        "    tokens_list = list()\n",
        "    tok2total = dict()\n",
        "    for comment in comments:\n",
        "        tokens_list.append(comment.split())\n",
        "    tokens = [token for comment_tokens in tokens_list for token in comment_tokens]\n",
        "    for token in tokens:\n",
        "        if not token in tok2total:\n",
        "            tok2total[token] = 0\n",
        "        tok2total[token] += 1 \n",
        "    return tok2total\n",
        "\n",
        "def get_total_dicts(df):\n",
        "    pos_comments = df[df.recommend == 1].comment\n",
        "    neg_comments = df[df.recommend == 0].comment\n",
        "    pos_tok2total = get_dict(pos_comments)\n",
        "    neg_tok2total = get_dict(neg_comments)\n",
        "    return pos_tok2total, neg_tok2total"
      ],
      "execution_count": null,
      "outputs": []
    },
    {
      "cell_type": "code",
      "metadata": {
        "id": "UoTYNG-Prbdm"
      },
      "source": [
        "pos_tok2total, neg_tok2total = get_total_dicts(train_df)"
      ],
      "execution_count": null,
      "outputs": []
    },
    {
      "cell_type": "code",
      "metadata": {
        "id": "xM_2bTLY88Ka"
      },
      "source": [
        "pos_tokens_counts = sum(list(pos_tok2total.values()))\n",
        "neg_tokens_counts = sum(list(neg_tok2total.values()))\n",
        "all_tokens_counts = pos_tokens_counts + neg_tokens_counts"
      ],
      "execution_count": null,
      "outputs": []
    },
    {
      "cell_type": "code",
      "metadata": {
        "id": "QQvXCnyu9tgi",
        "colab": {
          "base_uri": "https://localhost:8080/",
          "height": 69
        },
        "outputId": "33f164e3-94b9-402e-abe4-6f8e53a3fbca"
      },
      "source": [
        "print('number of words in positive comments: ', pos_tokens_counts)\n",
        "print('number of words in negative comments: ', neg_tokens_counts)\n",
        "print('number of words in all comments: ', all_tokens_counts)"
      ],
      "execution_count": null,
      "outputs": [
        {
          "output_type": "stream",
          "text": [
            "number of words in positive comments:  112044\n",
            "number of words in negative comments:  99364\n",
            "number of words in all comments:  211408\n"
          ],
          "name": "stdout"
        }
      ]
    },
    {
      "cell_type": "code",
      "metadata": {
        "id": "frBqNBP71S0y",
        "colab": {
          "base_uri": "https://localhost:8080/",
          "height": 52
        },
        "outputId": "97863d4b-3aa1-48c1-d19c-13f6dff50f60"
      },
      "source": [
        "print('number of tokens in positive comments: ', len(pos_tok2total))\n",
        "print('number of tokens in negative comments: ', len(neg_tok2total))"
      ],
      "execution_count": null,
      "outputs": [
        {
          "output_type": "stream",
          "text": [
            "number of tokens in positive comments:  11815\n",
            "number of tokens in negative comments:  10897\n"
          ],
          "name": "stdout"
        }
      ]
    },
    {
      "cell_type": "code",
      "metadata": {
        "id": "vNLNky-2-OYx"
      },
      "source": [
        "pos_tok2prob = dict()\n",
        "neg_tok2prob = dict()\n",
        "for token in pos_tok2total:\n",
        "    pos_tok2prob[token] = pos_tok2total[token] / pos_tokens_counts\n",
        "for token in neg_tok2total:\n",
        "    neg_tok2prob[token] = neg_tok2total[token] / neg_tokens_counts"
      ],
      "execution_count": null,
      "outputs": []
    },
    {
      "cell_type": "code",
      "metadata": {
        "id": "F7zeTn8J2dX_",
        "colab": {
          "base_uri": "https://localhost:8080/",
          "height": 34
        },
        "outputId": "5c5c0209-cc3f-4aeb-b5b3-33662458fc71"
      },
      "source": [
        "pos_tok2prob['خوب'], pos_tok2prob['بد'], pos_tok2prob['عالی']"
      ],
      "execution_count": null,
      "outputs": [
        {
          "output_type": "execute_result",
          "data": {
            "text/plain": [
              "(0.004810610117453857, 0.0004819535182606833, 0.00448038270679376)"
            ]
          },
          "metadata": {
            "tags": []
          },
          "execution_count": 26
        }
      ]
    },
    {
      "cell_type": "code",
      "metadata": {
        "id": "JT3jfLCb4GJc",
        "colab": {
          "base_uri": "https://localhost:8080/",
          "height": 34
        },
        "outputId": "e2e1c8e2-fd28-4a52-d543-59e98cd70071"
      },
      "source": [
        "neg_tok2prob['خوب'], neg_tok2prob['بد'], neg_tok2prob['عالی']"
      ],
      "execution_count": null,
      "outputs": [
        {
          "output_type": "execute_result",
          "data": {
            "text/plain": [
              "(0.003401634394750614, 0.0017913932611408557, 0.00046294432591280544)"
            ]
          },
          "metadata": {
            "tags": []
          },
          "execution_count": 27
        }
      ]
    },
    {
      "cell_type": "code",
      "metadata": {
        "id": "AMn8Fv595DvF"
      },
      "source": [
        "val_df['recommend'] = val_df['recommend'].apply(numeric_transform)"
      ],
      "execution_count": null,
      "outputs": []
    },
    {
      "cell_type": "code",
      "metadata": {
        "id": "01Qm4Vt36KnN"
      },
      "source": [
        "val_df = remove_newline(val_df)"
      ],
      "execution_count": null,
      "outputs": []
    },
    {
      "cell_type": "code",
      "metadata": {
        "id": "QhnxPwiL45re",
        "colab": {
          "base_uri": "https://localhost:8080/",
          "height": 206
        },
        "outputId": "98ac3517-4c58-46ef-eef2-247384fd8036"
      },
      "source": [
        "val_df.head()"
      ],
      "execution_count": null,
      "outputs": [
        {
          "output_type": "execute_result",
          "data": {
            "text/html": [
              "<div>\n",
              "<style scoped>\n",
              "    .dataframe tbody tr th:only-of-type {\n",
              "        vertical-align: middle;\n",
              "    }\n",
              "\n",
              "    .dataframe tbody tr th {\n",
              "        vertical-align: top;\n",
              "    }\n",
              "\n",
              "    .dataframe thead th {\n",
              "        text-align: right;\n",
              "    }\n",
              "</style>\n",
              "<table border=\"1\" class=\"dataframe\">\n",
              "  <thead>\n",
              "    <tr style=\"text-align: right;\">\n",
              "      <th></th>\n",
              "      <th>title</th>\n",
              "      <th>comment</th>\n",
              "      <th>recommend</th>\n",
              "    </tr>\n",
              "  </thead>\n",
              "  <tbody>\n",
              "    <tr>\n",
              "      <th>0</th>\n",
              "      <td>وری گود</td>\n",
              "      <td>تازه خریدم یه مدت کار بکنه مشخص میشه کیفیت قطعاتش</td>\n",
              "      <td>1</td>\n",
              "    </tr>\n",
              "    <tr>\n",
              "      <th>1</th>\n",
              "      <td>زیاد مناسب نیست رنگ پس میده یه وقتایی موقع نوشتن</td>\n",
              "      <td>با این قیمت گزینه های بهتری هم میشه گرفت   روا...</td>\n",
              "      <td>0</td>\n",
              "    </tr>\n",
              "    <tr>\n",
              "      <th>2</th>\n",
              "      <td>پنکه گوشی</td>\n",
              "      <td>خیلی عالیه، فقط کاش از اون سمتش میشد به پاوربا...</td>\n",
              "      <td>1</td>\n",
              "    </tr>\n",
              "    <tr>\n",
              "      <th>3</th>\n",
              "      <td>دستگاه خیلی ضعیف</td>\n",
              "      <td>من این فیس براس چند روز یپش به دستم رسید و الا...</td>\n",
              "      <td>0</td>\n",
              "    </tr>\n",
              "    <tr>\n",
              "      <th>4</th>\n",
              "      <td>عالی و بیست</td>\n",
              "      <td>بنده یه هارد اکسترنال دارم که کابل فابریکش سال...</td>\n",
              "      <td>1</td>\n",
              "    </tr>\n",
              "  </tbody>\n",
              "</table>\n",
              "</div>"
            ],
            "text/plain": [
              "                                              title  ... recommend\n",
              "0                                           وری گود  ...         1\n",
              "1  زیاد مناسب نیست رنگ پس میده یه وقتایی موقع نوشتن  ...         0\n",
              "2                                         پنکه گوشی  ...         1\n",
              "3                                  دستگاه خیلی ضعیف  ...         0\n",
              "4                                       عالی و بیست  ...         1\n",
              "\n",
              "[5 rows x 3 columns]"
            ]
          },
          "metadata": {
            "tags": []
          },
          "execution_count": 30
        }
      ]
    },
    {
      "cell_type": "code",
      "metadata": {
        "id": "xo_GRg8V6NOE",
        "colab": {
          "base_uri": "https://localhost:8080/",
          "height": 121
        },
        "outputId": "f348b5c3-c388-46f3-ad6c-9a81ec301317"
      },
      "source": [
        "comments = val_df.comment\n",
        "comments[:5]"
      ],
      "execution_count": null,
      "outputs": [
        {
          "output_type": "execute_result",
          "data": {
            "text/plain": [
              "0    تازه خریدم یه مدت کار بکنه مشخص میشه کیفیت قطعاتش\n",
              "1    با این قیمت گزینه های بهتری هم میشه گرفت   روا...\n",
              "2    خیلی عالیه، فقط کاش از اون سمتش میشد به پاوربا...\n",
              "3    من این فیس براس چند روز یپش به دستم رسید و الا...\n",
              "4    بنده یه هارد اکسترنال دارم که کابل فابریکش سال...\n",
              "Name: comment, dtype: object"
            ]
          },
          "metadata": {
            "tags": []
          },
          "execution_count": 32
        }
      ]
    },
    {
      "cell_type": "code",
      "metadata": {
        "id": "GGO5_z31e500",
        "colab": {
          "base_uri": "https://localhost:8080/",
          "height": 34
        },
        "outputId": "31de4a12-8b87-4fc7-c03f-04c3bc9f4a4d"
      },
      "source": [
        "results = np.empty(shape=0)\n",
        "results.shape"
      ],
      "execution_count": null,
      "outputs": [
        {
          "output_type": "execute_result",
          "data": {
            "text/plain": [
              "(0,)"
            ]
          },
          "metadata": {
            "tags": []
          },
          "execution_count": 33
        }
      ]
    },
    {
      "cell_type": "code",
      "metadata": {
        "id": "I8dmy2uRfNIA"
      },
      "source": [
        "for comment in comments:\n",
        "    tokens = comment.split()\n",
        "    pos_value = positive_proportion\n",
        "    neg_value = negative_proportion\n",
        "    for token in tokens:\n",
        "        if token in pos_tok2prob:\n",
        "            pos_value *= pos_tok2prob[token]\n",
        "        else:\n",
        "            pos_value *= 0\n",
        "        if token in neg_tok2prob:\n",
        "            neg_value *= neg_tok2prob[token]\n",
        "        else: \n",
        "            neg_value *= 0\n",
        "    results = np.append(results, (pos_value >= neg_value))"
      ],
      "execution_count": null,
      "outputs": []
    },
    {
      "cell_type": "code",
      "metadata": {
        "id": "HUa35T-W6iTU"
      },
      "source": [
        "def calc_acc_prec_rec_f1(df, column):\n",
        "    accuracy = sum(df[column].values == df.recommend.values) / df.shape[0]\n",
        "    recommended_portion = df[df.recommend == 1]\n",
        "    precision = sum(recommended_portion[column].values == recommended_portion.recommend.values) / sum(df[column])\n",
        "    recall = sum(recommended_portion[column].values == recommended_portion.recommend.values) / len(recommended_portion)\n",
        "    f1 = 2 * precision * recall / (precision + recall)\n",
        "    return accuracy, precision, recall, f1"
      ],
      "execution_count": null,
      "outputs": []
    },
    {
      "cell_type": "code",
      "metadata": {
        "id": "iYoyA5DIqtIC"
      },
      "source": [
        "val_df['raw_results'] = results"
      ],
      "execution_count": null,
      "outputs": []
    },
    {
      "cell_type": "code",
      "metadata": {
        "id": "lRIMP4ri940J",
        "colab": {
          "base_uri": "https://localhost:8080/",
          "height": 206
        },
        "outputId": "8ca5578b-09eb-446d-c2b0-f81756e385dc"
      },
      "source": [
        "val_df.head()"
      ],
      "execution_count": null,
      "outputs": [
        {
          "output_type": "execute_result",
          "data": {
            "text/html": [
              "<div>\n",
              "<style scoped>\n",
              "    .dataframe tbody tr th:only-of-type {\n",
              "        vertical-align: middle;\n",
              "    }\n",
              "\n",
              "    .dataframe tbody tr th {\n",
              "        vertical-align: top;\n",
              "    }\n",
              "\n",
              "    .dataframe thead th {\n",
              "        text-align: right;\n",
              "    }\n",
              "</style>\n",
              "<table border=\"1\" class=\"dataframe\">\n",
              "  <thead>\n",
              "    <tr style=\"text-align: right;\">\n",
              "      <th></th>\n",
              "      <th>title</th>\n",
              "      <th>comment</th>\n",
              "      <th>recommend</th>\n",
              "      <th>raw_results</th>\n",
              "    </tr>\n",
              "  </thead>\n",
              "  <tbody>\n",
              "    <tr>\n",
              "      <th>0</th>\n",
              "      <td>وری گود</td>\n",
              "      <td>تازه خریدم یه مدت کار بکنه مشخص میشه کیفیت قطعاتش</td>\n",
              "      <td>1</td>\n",
              "      <td>0.0</td>\n",
              "    </tr>\n",
              "    <tr>\n",
              "      <th>1</th>\n",
              "      <td>زیاد مناسب نیست رنگ پس میده یه وقتایی موقع نوشتن</td>\n",
              "      <td>با این قیمت گزینه های بهتری هم میشه گرفت   روا...</td>\n",
              "      <td>0</td>\n",
              "      <td>0.0</td>\n",
              "    </tr>\n",
              "    <tr>\n",
              "      <th>2</th>\n",
              "      <td>پنکه گوشی</td>\n",
              "      <td>خیلی عالیه، فقط کاش از اون سمتش میشد به پاوربا...</td>\n",
              "      <td>1</td>\n",
              "      <td>1.0</td>\n",
              "    </tr>\n",
              "    <tr>\n",
              "      <th>3</th>\n",
              "      <td>دستگاه خیلی ضعیف</td>\n",
              "      <td>من این فیس براس چند روز یپش به دستم رسید و الا...</td>\n",
              "      <td>0</td>\n",
              "      <td>1.0</td>\n",
              "    </tr>\n",
              "    <tr>\n",
              "      <th>4</th>\n",
              "      <td>عالی و بیست</td>\n",
              "      <td>بنده یه هارد اکسترنال دارم که کابل فابریکش سال...</td>\n",
              "      <td>1</td>\n",
              "      <td>1.0</td>\n",
              "    </tr>\n",
              "  </tbody>\n",
              "</table>\n",
              "</div>"
            ],
            "text/plain": [
              "                                              title  ... raw_results\n",
              "0                                           وری گود  ...         0.0\n",
              "1  زیاد مناسب نیست رنگ پس میده یه وقتایی موقع نوشتن  ...         0.0\n",
              "2                                         پنکه گوشی  ...         1.0\n",
              "3                                  دستگاه خیلی ضعیف  ...         1.0\n",
              "4                                       عالی و بیست  ...         1.0\n",
              "\n",
              "[5 rows x 4 columns]"
            ]
          },
          "metadata": {
            "tags": []
          },
          "execution_count": 45
        }
      ]
    },
    {
      "cell_type": "code",
      "metadata": {
        "id": "qruKdN1o9-l9",
        "colab": {
          "base_uri": "https://localhost:8080/",
          "height": 34
        },
        "outputId": "3b66c19b-0961-4a01-dd8c-ef295445d074"
      },
      "source": [
        "calc_acc_prec_rec_f1(val_df, 'raw_results')"
      ],
      "execution_count": null,
      "outputs": [
        {
          "output_type": "execute_result",
          "data": {
            "text/plain": [
              "(0.84375, 0.7733598409542743, 0.9725, 0.8615725359911407)"
            ]
          },
          "metadata": {
            "tags": []
          },
          "execution_count": 57
        }
      ]
    }
  ]
}